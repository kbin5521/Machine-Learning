{
 "cells": [
  {
   "cell_type": "markdown",
   "metadata": {},
   "source": [
    "# Comparison between Self-created KNN algo and Sklearn KNN classifier"
   ]
  },
  {
   "cell_type": "markdown",
   "metadata": {},
   "source": [
    "### Scikit learn KNN algo"
   ]
  },
  {
   "cell_type": "code",
   "execution_count": 1,
   "metadata": {
    "scrolled": true
   },
   "outputs": [
    {
     "name": "stderr",
     "output_type": "stream",
     "text": [
      "C:\\Users\\kbin\\Anaconda3\\lib\\site-packages\\sklearn\\cross_validation.py:41: DeprecationWarning: This module was deprecated in version 0.18 in favor of the model_selection module into which all the refactored classes and functions are moved. Also note that the interface of the new CV iterators are different from that of this module. This module will be removed in 0.20.\n",
      "  \"This module will be removed in 0.20.\", DeprecationWarning)\n"
     ]
    }
   ],
   "source": [
    "# import all packages\n",
    "import pandas as pd\n",
    "import numpy as np\n",
    "import matplotlib.pyplot as plt\n",
    "plt.rc('figure', figsize=(12, 8))\n",
    "%matplotlib inline\n",
    "plt.rc('figure', figsize=(10, 6))\n",
    "from sklearn.model_selection import train_test_split\n",
    "from sklearn.neighbors import KNeighborsClassifier\n",
    "from sklearn import preprocessing, cross_validation\n",
    "import mglearn\n",
    "import sklearn\n",
    "import seaborn as sns\n",
    "import graphviz"
   ]
  },
  {
   "cell_type": "code",
   "execution_count": 2,
   "metadata": {},
   "outputs": [],
   "source": [
    "import random\n",
    "import scipy.stats as ss"
   ]
  },
  {
   "cell_type": "code",
   "execution_count": 3,
   "metadata": {},
   "outputs": [
    {
     "data": {
      "text/plain": [
       "4.242640687119285"
      ]
     },
     "execution_count": 3,
     "metadata": {},
     "output_type": "execute_result"
    }
   ],
   "source": [
    "# Basic understanding regarding KNN: find the nearest neighbors\n",
    "# distance between two points\n",
    "\n",
    "def distance(p1,p2):\n",
    "    return np.sqrt(np.sum(np.power(p2-p1, 2)))\n",
    "\n",
    "p1 = np.array([1,1])\n",
    "p2 = np.array([4,4])\n",
    "\n",
    "distance(p1,p2)"
   ]
  },
  {
   "cell_type": "code",
   "execution_count": 4,
   "metadata": {},
   "outputs": [],
   "source": [
    "# load breast cancer data\n",
    "\n",
    "breast_cancer = sklearn.datasets.load_breast_cancer()\n",
    "\n",
    "breast_cancer.keys()"
   ]
  },
  {
   "cell_type": "code",
   "execution_count": 6,
   "metadata": {},
   "outputs": [
    {
     "data": {
      "text/plain": [
       "array(['mean radius', 'mean texture', 'mean perimeter', 'mean area',\n",
       "       'mean smoothness', 'mean compactness', 'mean concavity',\n",
       "       'mean concave points', 'mean symmetry', 'mean fractal dimension',\n",
       "       'radius error', 'texture error', 'perimeter error', 'area error',\n",
       "       'smoothness error', 'compactness error', 'concavity error',\n",
       "       'concave points error', 'symmetry error',\n",
       "       'fractal dimension error', 'worst radius', 'worst texture',\n",
       "       'worst perimeter', 'worst area', 'worst smoothness',\n",
       "       'worst compactness', 'worst concavity', 'worst concave points',\n",
       "       'worst symmetry', 'worst fractal dimension'], dtype='<U23')"
      ]
     },
     "execution_count": 6,
     "metadata": {},
     "output_type": "execute_result"
    }
   ],
   "source": [
    "# check columns\n",
    "breast_cancer.feature_names"
   ]
  },
  {
   "cell_type": "code",
   "execution_count": 7,
   "metadata": {},
   "outputs": [],
   "source": [
    "# transform bunch data to pd.DataFrame\n",
    "bc_df = pd.DataFrame(breast_cancer['data'], columns=breast_cancer.feature_names)\n",
    "bc_target_df = pd.Series(breast_cancer['target'])"
   ]
  },
  {
   "cell_type": "code",
   "execution_count": 8,
   "metadata": {},
   "outputs": [],
   "source": [
    "# use cross_validation.train_test_split to create training sample and testing sample\n",
    "X_train, X_test, y_train, y_test = cross_validation.train_test_split(bc_df, bc_target_df, test_size=0.2)"
   ]
  },
  {
   "cell_type": "code",
   "execution_count": 9,
   "metadata": {},
   "outputs": [
    {
     "name": "stdout",
     "output_type": "stream",
     "text": [
      "The shape of X_train is: (455, 30)\n",
      "The shape of X_test is: (114, 30)\n",
      "The shape of y_train is: (455,)\n",
      "The shape of y_test is: (114,)\n"
     ]
    }
   ],
   "source": [
    "# basic check on training and testing samles\n",
    "print('The shape of X_train is: {}'.format(X_train.shape))\n",
    "print('The shape of X_test is: {}'.format(X_test.shape))\n",
    "print('The shape of y_train is: {}'.format(y_train.shape))\n",
    "print('The shape of y_test is: {}'.format(y_test.shape))"
   ]
  },
  {
   "cell_type": "code",
   "execution_count": 10,
   "metadata": {
    "scrolled": true
   },
   "outputs": [
    {
     "data": {
      "text/plain": [
       "KNeighborsClassifier(algorithm='auto', leaf_size=30, metric='minkowski',\n",
       "           metric_params=None, n_jobs=1, n_neighbors=5, p=2,\n",
       "           weights='uniform')"
      ]
     },
     "execution_count": 10,
     "metadata": {},
     "output_type": "execute_result"
    }
   ],
   "source": [
    "# create KNN model\n",
    "clf = KNeighborsClassifier()\n",
    "clf.fit(X_train, y_train)"
   ]
  },
  {
   "cell_type": "code",
   "execution_count": 11,
   "metadata": {},
   "outputs": [
    {
     "data": {
      "text/plain": [
       "0.9473684210526315"
      ]
     },
     "execution_count": 11,
     "metadata": {},
     "output_type": "execute_result"
    }
   ],
   "source": [
    "# check accuracy\n",
    "accuracy = clf.score(X_test, y_test)\n",
    "accuracy"
   ]
  },
  {
   "cell_type": "markdown",
   "metadata": {},
   "source": [
    "### Creating our own KNN algorithms"
   ]
  },
  {
   "cell_type": "code",
   "execution_count": 12,
   "metadata": {},
   "outputs": [
    {
     "name": "stdout",
     "output_type": "stream",
     "text": [
      "2.23606797749979\n"
     ]
    }
   ],
   "source": [
    "# Euclidean Distance: the distance between two points\n",
    "\n",
    "plot1 = [1,3]\n",
    "plot2 = [2,5]\n",
    " \n",
    "euclidean_distance = np.sqrt( (plot1[0]-plot2[0])**2 + (plot1[1]-plot2[1])**2)\n",
    "print(euclidean_distance)"
   ]
  },
  {
   "cell_type": "code",
   "execution_count": 13,
   "metadata": {},
   "outputs": [],
   "source": [
    "import warnings\n",
    "from matplotlib import style\n",
    "from collections import Counter\n",
    "style.use('fivethirtyeight')"
   ]
  },
  {
   "cell_type": "code",
   "execution_count": 14,
   "metadata": {},
   "outputs": [],
   "source": [
    "# basic idea as to how we are going to create our algo\n",
    "dataset = {'k':[[1,2],[2,3],[3,1]], 'r':[[6,5],[7,7],[8,6]]}\n",
    "new_features = [5,7]"
   ]
  },
  {
   "cell_type": "code",
   "execution_count": 15,
   "metadata": {},
   "outputs": [
    {
     "data": {
      "text/plain": [
       "<matplotlib.collections.PathCollection at 0x240dc2efcf8>"
      ]
     },
     "execution_count": 15,
     "metadata": {},
     "output_type": "execute_result"
    },
    {
     "data": {
      "image/png": "[encoded data removed]",
      "text/plain": [
       "<Figure size 432x288 with 1 Axes>"
      ]
     },
     "metadata": {},
     "output_type": "display_data"
    }
   ],
   "source": [
    "[[plt.scatter(ii[0],ii[1], s=100, color=i) for ii in dataset[i]] for i in dataset]\n",
    "plt.scatter(new_features[0], new_features[1], s=80)"
   ]
  },
  {
   "cell_type": "code",
   "execution_count": 16,
   "metadata": {},
   "outputs": [],
   "source": [
    "# create KNN function\n",
    "def k_nearest_neighbors(data, predict, k=3):\n",
    "    if len(data) >= k:\n",
    "        warnings.warn('K is set to a value less than total voting groups')\n",
    "        \n",
    "    distances = []\n",
    "    \n",
    "    for group in data:\n",
    "        for features in data[group]:\n",
    "            euclidean_distance = np.linalg.norm(np.array(features)-np.array(predict))\n",
    "            distances.append([euclidean_distance, group])\n",
    "            \n",
    "            \n",
    "    votes = [i[1] for i in sorted(distances)[:k]]\n",
    "    \n",
    "    vote_result = Counter(votes).most_common(1)[0][0]\n",
    "    \n",
    "    return vote_result\n",
    "    "
   ]
  },
  {
   "cell_type": "code",
   "execution_count": 17,
   "metadata": {},
   "outputs": [],
   "source": [
    "# test on our little dataset\n",
    "result = k_nearest_neighbors(dataset, new_features, k=3)"
   ]
  },
  {
   "cell_type": "code",
   "execution_count": 18,
   "metadata": {},
   "outputs": [
    {
     "data": {
      "text/plain": [
       "<matplotlib.collections.PathCollection at 0x240dc69e748>"
      ]
     },
     "execution_count": 18,
     "metadata": {},
     "output_type": "execute_result"
    },
    {
     "data": {
      "image/png": "[encoded data removed]",
      "text/plain": [
       "<Figure size 432x288 with 1 Axes>"
      ]
     },
     "metadata": {},
     "output_type": "display_data"
    }
   ],
   "source": [
    "[[plt.scatter(ii[0],ii[1], s=100, color=i) for ii in dataset[i]] for i in dataset]\n",
    "plt.scatter(new_features[0], new_features[1], s=50, color=result)"
   ]
  },
  {
   "cell_type": "markdown",
   "metadata": {},
   "source": [
    "### Try our algorithm in breast cancer dataset"
   ]
  },
  {
   "cell_type": "code",
   "execution_count": 19,
   "metadata": {},
   "outputs": [],
   "source": [
    "import pandas as pd\n",
    "import numpy as np\n",
    "import random\n",
    "from sklearn import datasets\n",
    "from collections import Counter"
   ]
  },
  {
   "cell_type": "code",
   "execution_count": 133,
   "metadata": {},
   "outputs": [],
   "source": [
    "# the KNN algorithm we created\n",
    "def k_nearest_neighbors(data, predict, k=3):\n",
    "    if len(data) >= k:\n",
    "        warnings.warn('K is set to a value less than total voting groups')\n",
    "        \n",
    "    distances = []\n",
    "    \n",
    "    for group in data:\n",
    "        for features in data[group]:\n",
    "            euclidean_distance = np.linalg.norm(np.array(features)-np.array(predict))\n",
    "            distances.append([euclidean_distance, group])\n",
    "            \n",
    "            \n",
    "    votes = [i[1] for i in sorted(distances)[:k]]\n",
    "    \n",
    "    vote_result = Counter(votes).most_common(1)[0][0]\n",
    "    confidence = Counter(votes).most_common(1)[0][1] / k\n",
    "    \n",
    "    return vote_result, confidence"
   ]
  },
  {
   "cell_type": "code",
   "execution_count": 141,
   "metadata": {},
   "outputs": [
    {
     "data": {
      "text/plain": [
       "dict_keys(['data', 'target', 'target_names', 'DESCR', 'feature_names'])"
      ]
     },
     "execution_count": 141,
     "metadata": {},
     "output_type": "execute_result"
    }
   ],
   "source": [
    "# import breast dataset\n",
    "\n",
    "data = datasets.load_breast_cancer()\n",
    "data.keys()"
   ]
  },
  {
   "cell_type": "code",
   "execution_count": 22,
   "metadata": {},
   "outputs": [],
   "source": [
    "# change the format of dataset\n",
    "\n",
    "df = pd.DataFrame(data['data'], columns=data['feature_names'])\n",
    "df['target_names'] = data['target']\n"
   ]
  },
  {
   "cell_type": "code",
   "execution_count": 145,
   "metadata": {},
   "outputs": [
    {
     "name": "stdout",
     "output_type": "stream",
     "text": [
      "0.6335282651072125\n",
      "0.5714285714285714\n",
      "wrong classification with confidence:  0.8\n",
      "Accuracy: 0.9821428571428571\n"
     ]
    }
   ],
   "source": [
    "# shuffle the data\n",
    "# df = df.sample(frac=1)\n",
    "\n",
    "# convert data values to list and shuffle the list\n",
    "train_size = 0.9\n",
    "df_list = df.values.tolist()\n",
    "random.shuffle(df_list)\n",
    "\n",
    "\n",
    "df_test = df_list[:int(len(df_list) * (1 - train_size))]\n",
    "df_train = df_list[int(len(df_list) * (1 - train_size)):]\n",
    "\n",
    "\n",
    "# transform our data to fit in our algorithm\n",
    "\n",
    "train_set = {0:[],1:[]}\n",
    "test_set = {0:[],1:[]}\n",
    "\n",
    "# problem could be imbalance percentage of 1 and z\n",
    "for i in df_train:\n",
    "    train_set[i[-1]].append(i[:-1])\n",
    "for i in df_test:\n",
    "    test_set[i[-1]].append(i[:-1])\n",
    "\n",
    "# percentage of cancer patients\n",
    "\n",
    "print(len(train_set[1])/(len(train_set[0]) + len(train_set[1])))\n",
    "print(len(test_set[1])/(len(test_set[0]) + len(test_set[1])))\n",
    "       \n",
    "correct = 0\n",
    "total = 0\n",
    "\n",
    "for group in test_set:\n",
    "    for data in test_set[group]:\n",
    "        vote, confidence = k_nearest_neighbors(train_set, data, k=5)\n",
    "        if group == vote:\n",
    "            correct += 1\n",
    "        else:\n",
    "            print('wrong classification with confidence: ',confidence)\n",
    "        total +=1\n",
    "        \n",
    "print('Accuracy:', correct/total)"
   ]
  },
  {
   "cell_type": "markdown",
   "metadata": {},
   "source": [
    "### test average accuracy of our own algo"
   ]
  },
  {
   "cell_type": "code",
   "execution_count": 176,
   "metadata": {},
   "outputs": [
    {
     "name": "stdout",
     "output_type": "stream",
     "text": [
      "1 : 0.9380530973451328\n",
      "2 : 0.9380530973451328\n",
      "3 : 0.9026548672566371\n",
      "4 : 0.9557522123893806\n",
      "5 : 0.9203539823008849\n",
      "The average accuracy is:  0.9309734513274336\n",
      "The max accuracy is:  0.9557522123893806\n",
      "The min accuracy is:  0.9026548672566371\n"
     ]
    }
   ],
   "source": [
    "# basic parameters:\n",
    "train_size = 0.8\n",
    "k = 30\n",
    "no_test = 5\n",
    "\n",
    "accuracies = []\n",
    "for i in range(no_test):\n",
    "    # convert data values to list and shuffle the list\n",
    "    train_size = train_size\n",
    "    df_list = df.values.tolist()\n",
    "    random.shuffle(df_list)\n",
    "\n",
    "\n",
    "    df_test = df_list[:int(len(df_list) * (1 - train_size))]\n",
    "    df_train = df_list[int(len(df_list) * (1 - train_size)):]\n",
    "\n",
    "\n",
    "    # transform our data to fit in our algorithm\n",
    "\n",
    "    train_set = {0:[],1:[]}\n",
    "    test_set = {0:[],1:[]}\n",
    "    # problem could be imbalance percentage of 1 and z\n",
    "    for i in df_train:\n",
    "        train_set[i[-1]].append(i[:-1])\n",
    "    for i in df_test:\n",
    "        test_set[i[-1]].append(i[:-1])\n",
    "\n",
    "    # percentage of cancer patients\n",
    "\n",
    "#     print(len(train_set[1])/(len(train_set[0]) + len(train_set[1])))\n",
    "#     print(len(test_set[1])/(len(test_set[0]) + len(test_set[1])))\n",
    "\n",
    "    correct = 0\n",
    "    total = 0\n",
    "\n",
    "    for group in test_set:\n",
    "        for data in test_set[group]:\n",
    "            vote, confidence = k_nearest_neighbors(train_set, data, k=k)\n",
    "            if group == vote:\n",
    "                correct += 1\n",
    "#             else:\n",
    "#                 print('wrong classification with confidence: ',confidence)\n",
    "            total +=1\n",
    "    accuracies.append(correct/total)\n",
    "    \n",
    "for i, accuracy in enumerate(accuracies):\n",
    "    print(str(i+1), ':',  accuracy)\n",
    "print('The average accuracy is: ', np.mean(accuracies))\n",
    "print('The max accuracy is: ', np.max(accuracies))\n",
    "print('The min accuracy is: ', np.min(accuracies))"
   ]
  },
  {
   "cell_type": "code",
   "execution_count": null,
   "metadata": {},
   "outputs": [],
   "source": []
  }
 ],
 "metadata": {
  "kernelspec": {
   "display_name": "Python 3",
   "language": "python",
   "name": "python3"
  },
  "language_info": {
   "codemirror_mode": {
    "name": "ipython",
    "version": 3
   },
   "file_extension": ".py",
   "mimetype": "text/x-python",
   "name": "python",
   "nbconvert_exporter": "python",
   "pygments_lexer": "ipython3",
   "version": "3.6.5"
  }
 },
 "nbformat": 4,
 "nbformat_minor": 2
}
