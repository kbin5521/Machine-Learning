{
 "cells": [
  {
   "cell_type": "markdown",
   "metadata": {},
   "source": [
    "## Applying Logistic Regression"
   ]
  },
  {
   "cell_type": "code",
   "execution_count": 180,
   "metadata": {},
   "outputs": [],
   "source": [
    "import numpy as np\n",
    "import os\n",
    "import matplotlib.pyplot as plt\n",
    "import pandas as pd\n",
    "import seaborn as sns"
   ]
  },
  {
   "cell_type": "markdown",
   "metadata": {},
   "source": [
    "### 1. Load data"
   ]
  },
  {
   "cell_type": "code",
   "execution_count": 181,
   "metadata": {},
   "outputs": [],
   "source": [
    "os.chdir(r'D:\\Download\\other\\machine-learning-ex1\\machine-learning-ex2\\ex2')\n",
    "\n",
    "os.getcwd()\n",
    "\n",
    "file = 'ex2data1.txt'\n",
    "\n",
    "data = []\n",
    "with open(file, 'r') as f:\n",
    "    lines = f.readlines()\n",
    "    for line in lines:\n",
    "        line = str.strip(line)\n",
    "        data.append(line.split(','))\n",
    "data[:3]"
   ]
  },
  {
   "cell_type": "markdown",
   "metadata": {},
   "source": [
    "### 2. Data Modeling"
   ]
  },
  {
   "cell_type": "code",
   "execution_count": 185,
   "metadata": {},
   "outputs": [],
   "source": [
    "data_array = np.array(data)\n",
    "df = pd.DataFrame(data, columns = ['exam1', 'exam2', 'label'])"
   ]
  },
  {
   "cell_type": "code",
   "execution_count": 186,
   "metadata": {},
   "outputs": [],
   "source": [
    "# The numbers in the dataframe is str type, so we need to change it to numeric\n",
    "df['exam1'] = pd.to_numeric(df['exam1'])\n",
    "df['exam2'] = pd.to_numeric(df['exam2'])\n",
    "df['label'] = pd.to_numeric(df['label'])"
   ]
  },
  {
   "cell_type": "markdown",
   "metadata": {},
   "source": [
    "#### 2.1 Visualize The training dataset"
   ]
  },
  {
   "cell_type": "code",
   "execution_count": 187,
   "metadata": {
    "scrolled": false
   },
   "outputs": [
    {
     "data": {
      "text/plain": [
       "<matplotlib.axes._subplots.AxesSubplot at 0x1fb25fc2080>"
      ]
     },
     "execution_count": 187,
     "metadata": {},
     "output_type": "execute_result"
    },
    {
     "data": {
      "image/png": "[encoded data removed]",
      "text/plain": [
       "<Figure size 640x480 with 1 Axes>"
      ]
     },
     "metadata": {},
     "output_type": "display_data"
    }
   ],
   "source": [
    "import seaborn as sns\n",
    "sns.set()\n",
    "sns.set_style('white')\n",
    "sns.color_palette('husl')\n",
    "sns.swarmplot(x = 'exam1', y = 'exam2' , hue = 'label', data = df, size =7, edgecolor = None)"
   ]
  },
  {
   "cell_type": "markdown",
   "metadata": {},
   "source": [
    "## The logic and algorithm behind Logistic Regression"
   ]
  },
  {
   "cell_type": "markdown",
   "metadata": {},
   "source": [
    "```python\n",
    "Logistic Regression\n",
    "\n",
    "h(theta) = g(theta.T @ X)\n",
    "g(z) = 1/(1+e**(-z)) # logistic/sigmoid function\n",
    "\n",
    "Cost Function\n",
    "J(theta) = -1/m * sum[y(i)*log(h(theta(x(i)) + (1-y(i))*log(1-h(theta(x(i))]\n",
    "\n",
    "Algorithm - Simultaneously converge Theta\n",
    "\n",
    "{\n",
    " theta(j) = theta(j) - alpha * d/d(theta(j)) * J(theta) \n",
    "}\n",
    "\n",
    "\n",
    "```"
   ]
  },
  {
   "cell_type": "markdown",
   "metadata": {},
   "source": [
    "```python\n",
    "Propagate function：\n",
    "forward - propagete (forward propagation)： it is calculating cost\n",
    "backward - propagate (backward propagation): it is getting derivative terms\n",
    "These are essential part of Nueral Network\n",
    "```"
   ]
  },
  {
   "cell_type": "markdown",
   "metadata": {},
   "source": [
    "#### 2.2 Transform data"
   ]
  },
  {
   "cell_type": "code",
   "execution_count": 316,
   "metadata": {},
   "outputs": [],
   "source": [
    "# transform the data into array format\n",
    "x = np.array(df[['exam1','exam2']])\n",
    "y = np.array(df['label'])"
   ]
  },
  {
   "cell_type": "code",
   "execution_count": 317,
   "metadata": {},
   "outputs": [],
   "source": [
    "# transform training data\n",
    "x_0 = np.ones((x.shape[0],2))\n",
    "# concatenate column x0 to x\n",
    "x = np.concatenate((x, x_0), axis=1)"
   ]
  },
  {
   "cell_type": "code",
   "execution_count": 322,
   "metadata": {},
   "outputs": [],
   "source": [
    "# reorder the ndarray's columns \n",
    "x = x[:,[2,0,1]"
   ]
  },
  {
   "cell_type": "markdown",
   "metadata": {},
   "source": [
    "### 3. Creating Algorithm"
   ]
  },
  {
   "cell_type": "code",
   "execution_count": 369,
   "metadata": {},
   "outputs": [],
   "source": [
    "def sigmoid(a):\n",
    "    return 1/(1+np.exp(-a))\n",
    "\n",
    "loss = []\n",
    "def gradientDescent(x, y, theta=None, alpha=0.001, num_iter=1000):\n",
    "    \n",
    "    # the shape of training dataset\n",
    "    m = x.shape[0]\n",
    "    num_features = x.shape[1]\n",
    "    # the shape of theta\n",
    "    theta = np.zeros((num_features,1))\n",
    "    counter = 0\n",
    "    for i in range(num_iter):\n",
    "        # Hypothesis function\n",
    "        hypothesis = sigmoid(np.dot(x, theta))\n",
    "        # Cost function J(theta)\n",
    "        cost_function = -(1/m) * np.sum(y * np.log(hypothesis.reshape(m)) + (1-y)*np.log(1-hypothesis.reshape(m)))\n",
    "        # Update theta\n",
    "        temp = hypothesis\n",
    "        error = temp.reshape(m) - y\n",
    "        gradient = (1/m) * (np.dot(x.T, error)) \n",
    "        # x.T shape is (features,m); error shape is (m,1); so it ends up with shape of (features,1)\n",
    "\n",
    "        theta = theta.reshape(num_features) - alpha * gradient\n",
    "        loss.append(cost_function)\n",
    "        counter += 1\n",
    "        if counter >= 0.98 * num_iter:\n",
    "            print('No.{0} iter\\'s loss is {1}'.format(counter, cost_function ))\n",
    "    print('Theta is {}'.format(theta))\n",
    "    return theta"
   ]
  },
  {
   "cell_type": "markdown",
   "metadata": {
    "scrolled": true
   },
   "source": [
    "```python\n",
    "Test Code - there were some errors the first version code I wrote because of array dimensionality, so I \n",
    "troubleshot each line of code. (This is my stupid method, but I found the problem)\n",
    "\n",
    "m = x.shape[0]\n",
    "print('There are %d observations' % m)\n",
    "\n",
    "num_features = x.shape[1]\n",
    "print('There are %d features in the training dataset' % num_features)\n",
    "\n",
    "theta = np.zeros((num_features,1))\n",
    "print('The shape of theta is {}'.format(theta.shape))\n",
    "\n",
    "Hypothesis = sigmoid(np.dot(x, theta))\n",
    "print('The shape of Hypothesis is {}'.format(Hypothesis.shape))\n",
    "\n",
    "J = -(1/m) * np.sum(y * np.log(Hypothesis.reshape(m)) + (1-y) * np.log(1-Hypothesis.reshape(m)))\n",
    "print('The error is {0:.6f}'.format(J))\n",
    "\n",
    "'''\n",
    "Update theta : Gradient Descent\n",
    "{\n",
    "theta(j) := theta(j) - alpha * derivative of cost function J\n",
    "}\n",
    "\n",
    "theta(j) := theta(j) - alpha * (Hypothesis - y) * x(j)\n",
    "'''\n",
    "\n",
    "error = Hypothesis.reshape(m) - y\n",
    "print('The shape of error is {}'.format(error.shape))\n",
    "\n",
    "gradient = (1/m)*np.dot(x.T, error)\n",
    "print('The shape of gradient {}'.format(gradient.shape))\n",
    "alpha = 0.001\n",
    "theta = theta.reshape(num_features) - alpha * gradient\n",
    "print('The shape of new_theta is {}'.format(theta.shape))\n",
    "\n",
    "```"
   ]
  },
  {
   "cell_type": "markdown",
   "metadata": {},
   "source": [
    "### 4. Prediction"
   ]
  },
  {
   "cell_type": "code",
   "execution_count": 359,
   "metadata": {
    "scrolled": false
   },
   "outputs": [
    {
     "name": "stdout",
     "output_type": "stream",
     "text": [
      "No.999995 iter's loss is 0.2246543358362817\n",
      "No.999996 iter's loss is 0.2246543068454071\n",
      "No.999997 iter's loss is 0.22465427785458908\n",
      "No.999998 iter's loss is 0.22465424886382768\n",
      "No.999999 iter's loss is 0.22465421987312273\n",
      "No.1000000 iter's loss is 0.22465419088247443\n"
     ]
    }
   ],
   "source": [
    "# Get the theta. 1 million iteration\n",
    "trained_theta = gradientDescent(x,y)"
   ]
  },
  {
   "cell_type": "code",
   "execution_count": 360,
   "metadata": {},
   "outputs": [],
   "source": [
    "# training set prediction based on our model\n",
    "prediction = sigmoid(np.dot(x , trained_theta))\n",
    "\n",
    "pred = []\n",
    "for i in prediction:\n",
    "    if i >= 0.5:\n",
    "        i = 1\n",
    "        pred.append(i)\n",
    "    else:\n",
    "        i = 0\n",
    "        pred.append(i)"
   ]
  },
  {
   "cell_type": "code",
   "execution_count": 367,
   "metadata": {},
   "outputs": [
    {
     "data": {
      "text/plain": [
       "0.89"
      ]
     },
     "execution_count": 367,
     "metadata": {},
     "output_type": "execute_result"
    }
   ],
   "source": [
    "# calculate the accuracy. \n",
    "count = 0\n",
    "for (i,j) in zip(pred,y):\n",
    "    if i == j:\n",
    "        count += 1\n",
    "        \n",
    "accuracy = count/100\n",
    "accuracy"
   ]
  },
  {
   "cell_type": "markdown",
   "metadata": {},
   "source": [
    "Our model has 89% accuracy in training data set"
   ]
  },
  {
   "cell_type": "markdown",
   "metadata": {},
   "source": [
    "# Regularization"
   ]
  },
  {
   "cell_type": "markdown",
   "metadata": {},
   "source": [
    "```python\n",
    "Why machine learning model? \n",
    "Use the model to try to predict future observations, so accuracy of the model is everything.\n",
    "\n",
    "One of the major aspects of training machine learning model is to avoid OVERFITTING, which happens when the model\n",
    "tries too hard to capture noises. It ends up with low predicting power. \n",
    "\n",
    "One way to address the issue is to reduce the number of features\n",
    "- manually select which features to keep\n",
    "- use a model selection algorithm\n",
    "The other way is REGULARIZATION\n",
    "- keep all the features, but reduce the magnitude of parameters\n",
    "- Regularization works well when we have a lot of slightly useful features\n",
    "\n",
    "REGULARIZATION is a form of regression, that contstrains/regularizes or shrinks the coefficient estimates towards zero.\n",
    "In other words, this technique discourages learning a more complex or flxible model, so as to avoid the risk of overfitting.\n",
    "\n",
    "Algorithm:\n",
    "    \n",
    "    min(theta) 1/2m * sum(hypothesis - y) + lambda * sum(theta)**2\n",
    "\n",
    "```"
   ]
  },
  {
   "cell_type": "markdown",
   "metadata": {},
   "source": [
    "#### Logistice Regression Example - applying Regularization"
   ]
  },
  {
   "cell_type": "code",
   "execution_count": 373,
   "metadata": {},
   "outputs": [],
   "source": [
    "file = os.listdir()[4]"
   ]
  },
  {
   "cell_type": "code",
   "execution_count": 382,
   "metadata": {},
   "outputs": [],
   "source": [
    "data = []\n",
    "with open(file, 'r') as f:\n",
    "    lines = f.readlines()\n",
    "    for line in lines:\n",
    "        line = str.strip(line)\n",
    "        data.append(line.split(','))"
   ]
  },
  {
   "cell_type": "code",
   "execution_count": 387,
   "metadata": {},
   "outputs": [],
   "source": [
    "df = pd.DataFrame(data, columns = ['test1', 'test2', 'label'])\n",
    "df['test1'] = pd.to_numeric(df['test1'])\n",
    "df['test2'] = pd.to_numeric(df['test2'])\n"
   ]
  },
  {
   "cell_type": "code",
   "execution_count": 388,
   "metadata": {},
   "outputs": [
    {
     "data": {
      "text/plain": [
       "<matplotlib.axes._subplots.AxesSubplot at 0x1fb277bfe10>"
      ]
     },
     "execution_count": 388,
     "metadata": {},
     "output_type": "execute_result"
    },
    {
     "data": {
      "image/png": "[encoded data removed]",
      "text/plain": [
       "<Figure size 640x480 with 1 Axes>"
      ]
     },
     "metadata": {},
     "output_type": "display_data"
    }
   ],
   "source": [
    "sns.swarmplot(x = 'test1', y = 'test2', hue = 'label', data = df)"
   ]
  },
  {
   "cell_type": "markdown",
   "metadata": {},
   "source": [
    "The plot shows that the dataset cannot be separated by a straight-line. Therefore, a straight-forward application of \n",
    "logistic regression will not perfomr well on this dataset since logistic regression will only be able to find a \n",
    "linear decision boundary."
   ]
  },
  {
   "cell_type": "markdown",
   "metadata": {},
   "source": [
    "### Feature Mapping"
   ]
  },
  {
   "cell_type": "markdown",
   "metadata": {},
   "source": [
    "The solution is to create more features from each data point."
   ]
  },
  {
   "cell_type": "markdown",
   "metadata": {},
   "source": [
    "For this example, we will map the features into all polynomial terms of x1 and x2 up to the sixth power"
   ]
  },
  {
   "cell_type": "code",
   "execution_count": 435,
   "metadata": {},
   "outputs": [],
   "source": [
    "def mapfeatures(x1, x2, degree=6):\n",
    "    output = np.ones(x1.shape[0])\n",
    "    \n",
    "    for i in range(0, degree+1):\n",
    "        for j in range(0, i+1):\n",
    "            out = (x1 ** (i-j)) * (x2 ** j)\n",
    "            output = np.vstack((output, out))\n",
    "    print(output.T.shape)\n",
    "    \n",
    "    return output.T"
   ]
  },
  {
   "cell_type": "code",
   "execution_count": null,
   "metadata": {},
   "outputs": [],
   "source": []
  }
 ],
 "metadata": {
  "kernelspec": {
   "display_name": "Python 3",
   "language": "python",
   "name": "python3"
  },
  "language_info": {
   "codemirror_mode": {
    "name": "ipython",
    "version": 3
   },
   "file_extension": ".py",
   "mimetype": "text/x-python",
   "name": "python",
   "nbconvert_exporter": "python",
   "pygments_lexer": "ipython3",
   "version": "3.6.5"
  }
 },
 "nbformat": 4,
 "nbformat_minor": 2
}
